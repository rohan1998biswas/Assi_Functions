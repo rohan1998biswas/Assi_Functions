{
 "cells": [
  {
   "cell_type": "code",
   "execution_count": 1,
   "id": "3d180879-318a-43ac-9834-dc45a5b90cb5",
   "metadata": {
    "tags": []
   },
   "outputs": [],
   "source": [
    "# 1. Write a Python function that takes a list of numbers as input and returns the sum of all even numbers in the list."
   ]
  },
  {
   "cell_type": "code",
   "execution_count": 50,
   "id": "0cd49251-ea8e-4e83-b416-da429dd892cc",
   "metadata": {},
   "outputs": [
    {
     "name": "stdin",
     "output_type": "stream",
     "text": [
      "Enter the quantity you want to input:  10\n",
      "Enter no:  1\n",
      "Enter no:  2\n",
      "Enter no:  3\n",
      "Enter no:  4\n",
      "Enter no:  5\n",
      "Enter no:  6\n",
      "Enter no:  7\n",
      "Enter no:  8\n",
      "Enter no:  9\n",
      "Enter no:  10\n"
     ]
    },
    {
     "name": "stdout",
     "output_type": "stream",
     "text": [
      "Even nos are: [2, 4, 6, 8, 10]\n",
      "Sum of even nos are:  30\n"
     ]
    }
   ],
   "source": [
    "# Solution\n",
    "def sum_eve(num):\n",
    "    total=0\n",
    "    even=[]\n",
    "    for i in num:\n",
    "        if i%2==0:\n",
    "            total+=i\n",
    "            even.append(i)\n",
    "    print(\"Even nos are:\",even)\n",
    "    return total\n",
    "\n",
    "n=int(input(\"Enter the quantity you want to input: \"))\n",
    "l=[]\n",
    "for j in range(n):\n",
    "    item=int(input(\"Enter no: \"))\n",
    "    l.append(item)\n",
    "result=sum_eve(l)\n",
    "print(\"Sum of even nos are: \", result)"
   ]
  },
  {
   "cell_type": "code",
   "execution_count": 2,
   "id": "bad0f890-f373-4769-a264-5a636171565a",
   "metadata": {},
   "outputs": [],
   "source": [
    "# 2. Create a Python function that accepts a string and returns the reverse of that string."
   ]
  },
  {
   "cell_type": "code",
   "execution_count": 21,
   "id": "ff5a03ad-d707-41e2-8e35-f8556180f6ef",
   "metadata": {},
   "outputs": [
    {
     "name": "stdin",
     "output_type": "stream",
     "text": [
      "Enter a sentence:  how are you\n"
     ]
    },
    {
     "data": {
      "text/plain": [
       "'uoy era woh'"
      ]
     },
     "execution_count": 21,
     "metadata": {},
     "output_type": "execute_result"
    }
   ],
   "source": [
    "# Solution\n",
    "def rev_str(s):\n",
    "    return s[::-1]\n",
    "\n",
    "s=input(\"Enter a sentence: \")\n",
    "s_rev=rev_str(s)\n",
    "s_rev"
   ]
  },
  {
   "cell_type": "code",
   "execution_count": 3,
   "id": "6de6f3a1-3878-40cd-b165-1b8fca698539",
   "metadata": {},
   "outputs": [],
   "source": [
    "# 3.  Implement a Python function that takes a list of integers and returns a new list containing the squares of each number."
   ]
  },
  {
   "cell_type": "code",
   "execution_count": 28,
   "id": "39737c9f-d57e-4a94-b887-7dbec3a9ac09",
   "metadata": {},
   "outputs": [
    {
     "name": "stdin",
     "output_type": "stream",
     "text": [
      "Enter the quantity you want to input:  4\n",
      "Enter no:  1\n",
      "Enter no:  2\n",
      "Enter no:  3\n",
      "Enter no:  4\n"
     ]
    },
    {
     "name": "stdout",
     "output_type": "stream",
     "text": [
      "The new list is:  [1, 4, 9, 16]\n"
     ]
    }
   ],
   "source": [
    "# Solution\n",
    "def sq_num(a):\n",
    "    res=[]\n",
    "    for i in a:\n",
    "        res.append(i**2)\n",
    "    return res\n",
    "\n",
    "n=int(input(\"Enter the quantity you want to input: \"))\n",
    "l=[]\n",
    "for j in range(n):\n",
    "    item=int(input(\"Enter no: \"))\n",
    "    l.append(item)\n",
    "result=sq_num(l)\n",
    "print(\"The new list is: \", result)"
   ]
  },
  {
   "cell_type": "code",
   "execution_count": 4,
   "id": "ed932ce2-28bc-4e4f-a388-4cae89a9e79d",
   "metadata": {},
   "outputs": [],
   "source": [
    "# 4. Write a Python function that checks if a given number is prime or not from 1 to 200."
   ]
  },
  {
   "cell_type": "code",
   "execution_count": 32,
   "id": "91ad9b31-03fd-4d18-b330-e97c8bd253ff",
   "metadata": {},
   "outputs": [
    {
     "name": "stdin",
     "output_type": "stream",
     "text": [
      "Enter the no till which you want to find prime no:  200\n"
     ]
    },
    {
     "name": "stdout",
     "output_type": "stream",
     "text": [
      "List of prime nos are:  [2, 3, 5, 7, 11, 13, 17, 19, 23, 29, 31, 37, 41, 43, 47, 53, 59, 61, 67, 71, 73, 79, 83, 89, 97, 101, 103, 107, 109, 113, 127, 131, 137, 139, 149, 151, 157, 163, 167, 173, 179, 181, 191, 193, 197, 199]\n"
     ]
    }
   ],
   "source": [
    "# Solution\n",
    "def prime(no):\n",
    "    lis=[]\n",
    "    for i in range(1,no+1):\n",
    "        div=0\n",
    "        for j in range(1,i+1):\n",
    "            if i%j==0:\n",
    "                div+=1\n",
    "        if div==2:\n",
    "            lis.append(i)\n",
    "    return lis\n",
    "\n",
    "n=int(input(\"Enter the no till which you want to find prime no: \"))\n",
    "prime_lis=prime(n)\n",
    "print(\"List of prime nos are: \", prime_lis)"
   ]
  },
  {
   "cell_type": "code",
   "execution_count": 5,
   "id": "1482c59f-506b-4d4a-86c5-3c92aaa9a405",
   "metadata": {},
   "outputs": [],
   "source": [
    "# 5. Create an iterator class in Python that generates the Fibonacci sequence up to a specified number of terms."
   ]
  },
  {
   "cell_type": "code",
   "execution_count": 3,
   "id": "4e53a592-0b15-48c2-ad62-ed8ddf120707",
   "metadata": {},
   "outputs": [
    {
     "name": "stdin",
     "output_type": "stream",
     "text": [
      "Enter the no of terms till which you want to know the Fibonacci series:  10\n"
     ]
    },
    {
     "name": "stdout",
     "output_type": "stream",
     "text": [
      "The Fibonacci Series is:  [0, 1, 1, 2, 3, 5, 8, 13, 21, 34]\n"
     ]
    }
   ],
   "source": [
    "# Solution\n",
    "def fibo(no):\n",
    "    a=0\n",
    "    b=1\n",
    "    for i in range(n):\n",
    "        yield a\n",
    "        a, b = b, a+b\n",
    "\n",
    "n=int(input(\"Enter the no of terms till which you want to know the Fibonacci series: \")) \n",
    "fib_ser=list(fibo(n))\n",
    "print(\"The Fibonacci Series is: \", fib_ser)"
   ]
  },
  {
   "cell_type": "code",
   "execution_count": 6,
   "id": "85df5720-f2f2-469e-985a-75eb95653fa8",
   "metadata": {},
   "outputs": [],
   "source": [
    "# 6. Write a generator function in Python that yields the powers of 2 up to a given exponent."
   ]
  },
  {
   "cell_type": "code",
   "execution_count": 7,
   "id": "94ee5d4f-3f2c-40d1-8e95-0e02863371b2",
   "metadata": {},
   "outputs": [
    {
     "name": "stdin",
     "output_type": "stream",
     "text": [
      "Enter the exponent till which you want to find power of 2:  5\n"
     ]
    },
    {
     "name": "stdout",
     "output_type": "stream",
     "text": [
      "The power of 2 till exponent  5 starting from 0 is:  [1, 2, 4, 8, 16, 32]\n"
     ]
    }
   ],
   "source": [
    "# Solution\n",
    "def two_power(no):\n",
    "    for i in range(n+1):\n",
    "        yield 2**i\n",
    "\n",
    "n=int(input(\"Enter the exponent till which you want to find power of 2: \"))\n",
    "two_expo=list(two_power(n))\n",
    "print(\"The power of 2 till exponent \", n,\"starting from 0 is: \",two_expo)"
   ]
  },
  {
   "cell_type": "code",
   "execution_count": 8,
   "id": "e9bfd5c8-ef58-4247-a9b4-13227e37f62a",
   "metadata": {},
   "outputs": [],
   "source": [
    "# 7. Implement a generator function that reads a file line by line and yields each line as a string."
   ]
  },
  {
   "cell_type": "code",
   "execution_count": 65,
   "id": "3c8fe26f-0bda-411d-83e5-a43bda38fef8",
   "metadata": {},
   "outputs": [
    {
     "name": "stdout",
     "output_type": "stream",
     "text": [
      "how are you\n",
      "i am fine\n",
      "lets meet\n",
      "we will discuss\n"
     ]
    }
   ],
   "source": [
    "# Solution\n",
    "def line_yield(para):\n",
    "    for i in para.splitlines():\n",
    "        yield i\n",
    "        \n",
    "paragraph=\"\"\"how are you\n",
    "i am fine\n",
    "lets meet\n",
    "we will discuss\"\"\"\n",
    "line_by_line=line_yield(paragraph)\n",
    "for j in line_by_line:\n",
    "    print(j)"
   ]
  },
  {
   "cell_type": "code",
   "execution_count": 9,
   "id": "b7917d50-aea0-4c9d-8611-c88cf4810d09",
   "metadata": {},
   "outputs": [],
   "source": [
    "# 8. Use a lambda function in Python to sort a list of tuples based on the second element of each tuple."
   ]
  },
  {
   "cell_type": "code",
   "execution_count": 62,
   "id": "cd11b1d6-11d6-4137-8589-f4080c5bebf6",
   "metadata": {},
   "outputs": [
    {
     "name": "stdout",
     "output_type": "stream",
     "text": [
      "Original List:  [(1, 4), (7, 5), (4, 3), (5, 2)]\n",
      "Sorted List:  [(5, 2), (4, 3), (1, 4), (7, 5)]\n"
     ]
    }
   ],
   "source": [
    "# Solution\n",
    "tup=[(1,4),(7,5),(4,3),(5,2)]\n",
    "sort_tup= sorted(tup, key=lambda x: x[1])\n",
    "print(\"Original List: \",tup)\n",
    "print(\"Sorted List: \",sort_tup)"
   ]
  },
  {
   "cell_type": "code",
   "execution_count": 47,
   "id": "d4e90158-a18a-46e5-9138-54b207d71347",
   "metadata": {},
   "outputs": [],
   "source": [
    "# 9. Write a Python program that uses `map()` to convert a list of temperatures from Celsius to Fahrenheit."
   ]
  },
  {
   "cell_type": "code",
   "execution_count": 54,
   "id": "b9a2d3b4-b973-48ad-b3de-5f961b1caf32",
   "metadata": {},
   "outputs": [
    {
     "name": "stdin",
     "output_type": "stream",
     "text": [
      "Enter the quantity of nos for which you want to find Fahrenheit temperature:  3\n",
      "Enter temperature:  20\n",
      "Enter temperature:  30\n",
      "Enter temperature:  40\n"
     ]
    },
    {
     "name": "stdout",
     "output_type": "stream",
     "text": [
      "Temperature in Fahrenheit are as follows: [68.0, 86.0, 104.0]\n"
     ]
    }
   ],
   "source": [
    "# Solution\n",
    "def temp(cel):\n",
    "    return (cel*9/5)+32\n",
    "\n",
    "n=int(input(\"Enter the quantity of nos for which you want to find Fahrenheit temperature: \"))\n",
    "l=[]\n",
    "for j in range(n):\n",
    "    item=int(input(\"Enter temperature: \"))\n",
    "    l.append(item)\n",
    "result=list(map(temp,l))\n",
    "print(\"Temperature in Fahrenheit are as follows:\",result)"
   ]
  },
  {
   "cell_type": "code",
   "execution_count": 11,
   "id": "09168138-b606-4680-acb1-d870ba0462ec",
   "metadata": {},
   "outputs": [],
   "source": [
    "# 10. Create a Python program that uses `filter()` to remove all the vowels from a given string."
   ]
  },
  {
   "cell_type": "code",
   "execution_count": 46,
   "id": "f5ce160b-5d05-4c4a-8d38-907e86fc07c6",
   "metadata": {},
   "outputs": [
    {
     "name": "stdin",
     "output_type": "stream",
     "text": [
      "Enter a Sentence:  How are you? I'm fine.\n"
     ]
    },
    {
     "name": "stdout",
     "output_type": "stream",
     "text": [
      "Sentence withou vowels is:  Hw r y? 'm fn.\n"
     ]
    }
   ],
   "source": [
    "def no_vowel(sent):\n",
    "    def vowels(alpha):\n",
    "        vow=\"aeiouAEIOU\"\n",
    "        return alpha not in vow\n",
    "    rem_vow= filter(vowels,sent)\n",
    "    result_sent= ''.join(rem_vow)\n",
    "    return result_sent\n",
    "\n",
    "n= input(\"Enter a Sentence: \")\n",
    "result = no_vowel(n)\n",
    "print(\"Sentence withou vowels is: \", result)"
   ]
  },
  {
   "cell_type": "code",
   "execution_count": 53,
   "id": "c5e0dd0a-8c1a-452d-9f5e-9f2c4ab24a9b",
   "metadata": {},
   "outputs": [
    {
     "data": {
      "text/plain": [
       "'  \\n    11. Write a Python program, which returns a list with 2-tuples. Each tuple consists of the order number and the \\nproduct of the price per item and the quantity. The product should be increased by 10,- € if the value of the \\norder is smaller than 100,00 €.\\n\\nWrite a Python program using lambda and map.'"
      ]
     },
     "execution_count": 53,
     "metadata": {},
     "output_type": "execute_result"
    }
   ],
   "source": [
    "\"\"\"  \n",
    "    11. Write a Python program, which returns a list with 2-tuples. Each tuple consists of the order number and the \n",
    "product of the price per item and the quantity. The product should be increased by 10,- € if the value of the \n",
    "order is smaller than 100,00 €.\n",
    "\n",
    "Write a Python program using lambda and map.\"\"\""
   ]
  },
  {
   "cell_type": "code",
   "execution_count": 54,
   "id": "6b3be906-f78e-4e8b-ab93-5a8bec3281e7",
   "metadata": {},
   "outputs": [
    {
     "name": "stdout",
     "output_type": "stream",
     "text": [
      "[(34587, 163.8), (98762, 284.0), (77226, 98.95), (88112, 75.07)]\n"
     ]
    }
   ],
   "source": [
    "def order_total(order_quant_price):\n",
    "    order_price = lambda order: ( order[0], order[3] * order[4] + 0.10 if order[3] * order[4] < 100 else order[3] * order[4]   )\n",
    "    order_totals = list(map(order_price, order_quant_price))\n",
    "    return order_totals\n",
    "\n",
    "orders = [\n",
    "    (34587, \"Learning Python\",\"Mark Lutz\", 4, 40.95),\n",
    "    (98762, \"Progranning Python\", \"Mark Lutz\",5, 56.80),\n",
    "    (77226, \"Head First Python\", \"Paul Barry\",3, 32.95),\n",
    "    (88112, \"Einfuhrung in Python3\",\"Bernd Klein\",3,24.99)\n",
    "]\n",
    "result = order_total(orders)\n",
    "print(result)"
   ]
  }
 ],
 "metadata": {
  "kernelspec": {
   "display_name": "Python 3 (ipykernel)",
   "language": "python",
   "name": "python3"
  },
  "language_info": {
   "codemirror_mode": {
    "name": "ipython",
    "version": 3
   },
   "file_extension": ".py",
   "mimetype": "text/x-python",
   "name": "python",
   "nbconvert_exporter": "python",
   "pygments_lexer": "ipython3",
   "version": "3.10.8"
  }
 },
 "nbformat": 4,
 "nbformat_minor": 5
}
